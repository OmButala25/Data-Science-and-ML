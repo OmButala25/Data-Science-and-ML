{
  "nbformat": 4,
  "nbformat_minor": 0,
  "metadata": {
    "colab": {
      "provenance": []
    },
    "kernelspec": {
      "name": "python3",
      "display_name": "Python 3"
    },
    "language_info": {
      "name": "python"
    }
  },
  "cells": [
    {
      "cell_type": "markdown",
      "source": [
        "Exceptions are errors that are detected at the time of program execution.\n"
      ],
      "metadata": {
        "id": "FNhXZmGjTRQE"
      }
    },
    {
      "cell_type": "code",
      "execution_count": null,
      "metadata": {
        "colab": {
          "base_uri": "https://localhost:8080/"
        },
        "id": "-g_-Kn20TKQj",
        "outputId": "1bc4ce7c-357b-4315-839e-2a3c940f0000"
      },
      "outputs": [
        {
          "output_type": "stream",
          "name": "stdout",
          "text": [
            "Enter number1: 5\n",
            "Enter number2: 0\n",
            "Division by zero exception\n",
            "Division is:  None\n"
          ]
        }
      ],
      "source": [
        "x=input(\"Enter number1: \")\n",
        "y=input(\"Enter number2: \")\n",
        "try:\n",
        "    z = int(x) / int(y)\n",
        "except ZeroDivisionError as e:\n",
        "    print('Division by zero exception')\n",
        "    z = None\n",
        "except TypeError as e:\n",
        "    print('Type error exception')\n",
        "    z = None\n",
        "print(\"Division is: \", z)"
      ]
    }
  ]
}