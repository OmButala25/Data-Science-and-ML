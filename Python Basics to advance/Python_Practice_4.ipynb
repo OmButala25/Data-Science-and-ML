{
  "nbformat": 4,
  "nbformat_minor": 0,
  "metadata": {
    "colab": {
      "provenance": []
    },
    "kernelspec": {
      "name": "python3",
      "display_name": "Python 3"
    },
    "language_info": {
      "name": "python"
    }
  },
  "cells": [
    {
      "cell_type": "code",
      "execution_count": null,
      "metadata": {
        "colab": {
          "base_uri": "https://localhost:8080/"
        },
        "id": "INLTP-ICO743",
        "outputId": "5fc33258-6a7a-4301-c869-27a002f919da"
      },
      "outputs": [
        {
          "output_type": "stream",
          "name": "stdout",
          "text": [
            "1 2 3 \n",
            "2\n",
            "array('i', [2, 3])\n",
            "array('i', [1, 2, 3, 7])\n",
            "array('i', [1, 5, 2, 3, 7])\n",
            "array('i', [1, 5, 2, 3, 7, 5, 6, 7, 8, 9])\n",
            "None\n"
          ]
        }
      ],
      "source": [
        "import array as arr\n",
        "\n",
        "a = arr.array('i', [1, 2, 3])\n",
        "b = arr.array('i', [5, 6, 7, 8, 9])\n",
        "for i in range(0, len(a)):\n",
        "  print(a[i], end= \" \")\n",
        "print()\n",
        "print(a[1])\n",
        "print(a[1:])\n",
        "\n",
        "a.append(7)\n",
        "print(a)\n",
        "\n",
        "a.insert(1, 5)\n",
        "print(a)\n",
        "\n",
        "c = a.extend(b)\n",
        "print(a)"
      ]
    },
    {
      "cell_type": "code",
      "source": [],
      "metadata": {
        "id": "RiViKXJ6htXp"
      },
      "execution_count": null,
      "outputs": []
    },
    {
      "cell_type": "code",
      "source": [],
      "metadata": {
        "id": "ffez6LR-RFdy"
      },
      "execution_count": null,
      "outputs": []
    }
  ]
}