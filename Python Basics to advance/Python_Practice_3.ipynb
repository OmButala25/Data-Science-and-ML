{
  "nbformat": 4,
  "nbformat_minor": 0,
  "metadata": {
    "colab": {
      "provenance": []
    },
    "kernelspec": {
      "name": "python3",
      "display_name": "Python 3"
    },
    "language_info": {
      "name": "python"
    }
  },
  "cells": [
    {
      "cell_type": "code",
      "execution_count": null,
      "metadata": {
        "colab": {
          "base_uri": "https://localhost:8080/"
        },
        "id": "lIDv9Uef-lJ6",
        "outputId": "2d2502a8-be03-4b84-aa07-0b9573b42603"
      },
      "outputs": [
        {
          "output_type": "stream",
          "name": "stdout",
          "text": [
            "18\n"
          ]
        }
      ],
      "source": [
        "#Python program to find number of vowels in a given string.\n",
        "\n",
        "mystr = \"All animals are equal. Some are more equal\"\n",
        "vowels = \"aeiou\"\n",
        "count = 0\n",
        "\n",
        "for x in mystr:\n",
        "  if x.lower() in vowels:\n",
        "    count=count+1\n",
        "\n",
        "print(count)"
      ]
    },
    {
      "cell_type": "code",
      "source": [
        "#Python program to find unique numbers in a given list.\n",
        "\n",
        "list1 = [1, 9, 1, 6, 3, 4, 5, 1, 1, 2, 5, 6, 7, 8, 9, 2]\n",
        "list2 = []\n",
        "\n",
        "for x in list1:\n",
        "  if x not in list2:\n",
        "    list2.append(x)\n",
        "\n",
        "print(list2)"
      ],
      "metadata": {
        "colab": {
          "base_uri": "https://localhost:8080/"
        },
        "id": "2dJDANeB_57T",
        "outputId": "9e29e667-3860-4888-a6bc-ceba54ce541a"
      },
      "execution_count": null,
      "outputs": [
        {
          "output_type": "stream",
          "name": "stdout",
          "text": [
            "[1, 9, 6, 3, 4, 5, 2, 7, 8]\n"
          ]
        }
      ]
    },
    {
      "cell_type": "code",
      "source": [
        "#Python program to find sum of all numbers in a list.\n",
        "\n",
        "L1 = [1, 9, 1, 6, 3, 4]\n",
        "ttl = 0\n",
        "# ttl = sum(L1)\n",
        "# print(ttl)\n",
        "\n",
        "for x in L1:\n",
        "  ttl = ttl+x\n",
        "\n",
        "print(ttl)"
      ],
      "metadata": {
        "colab": {
          "base_uri": "https://localhost:8080/"
        },
        "id": "97XJXErrA9Yi",
        "outputId": "944cdf7a-4d76-4e76-9ece-4599b0eed295"
      },
      "execution_count": null,
      "outputs": [
        {
          "output_type": "stream",
          "name": "stdout",
          "text": [
            "24\n"
          ]
        }
      ]
    },
    {
      "cell_type": "code",
      "source": [
        "#Python program to create a list of 5 random integers.\n",
        "\n",
        "import random\n",
        "\n",
        "L1 = []\n",
        "\n",
        "for x in range(5):\n",
        "  x = random.randint(0, 100)\n",
        "  L1.append(x)\n",
        "\n",
        "print(L1)"
      ],
      "metadata": {
        "colab": {
          "base_uri": "https://localhost:8080/"
        },
        "id": "P64pyfiADKPW",
        "outputId": "40a54171-6692-4c27-f907-1d3ec31573a2"
      },
      "execution_count": null,
      "outputs": [
        {
          "output_type": "stream",
          "name": "stdout",
          "text": [
            "[96, 49, 73, 23, 24]\n"
          ]
        }
      ]
    },
    {
      "cell_type": "code",
      "source": [
        "#Python program to remove all odd numbers from a list.\n",
        "\n",
        "list1 = [1, 2, 3, 4, 5, 6, 7, 8, 9, 10]\n",
        "\n",
        "for i in list1:\n",
        "  if (i%2==1):\n",
        "    list1.remove(i)\n",
        "\n",
        "print(list1)"
      ],
      "metadata": {
        "colab": {
          "base_uri": "https://localhost:8080/"
        },
        "id": "m-S1eKSYDfvl",
        "outputId": "162f01ab-25f9-43da-fcfe-08c3466ee7f6"
      },
      "execution_count": null,
      "outputs": [
        {
          "output_type": "stream",
          "name": "stdout",
          "text": [
            "[2, 4, 6, 8, 10]\n"
          ]
        }
      ]
    },
    {
      "cell_type": "code",
      "source": [
        "#Python program to find unique numbers in a given tuple\n",
        "\n",
        "# function for iteration and finding unique values\n",
        "def unique_numbers(numbers):\n",
        "\tun = []\n",
        "\tfor num in numbers:\n",
        "\t\tif num not in un:\n",
        "\t\t\tun.append(num)\n",
        "\t# to convert list into tuple using tuple() function\n",
        "\tunique_tuple = tuple(un)\n",
        "\treturn unique_tuple\n",
        "\n",
        "\n",
        "# print the unique tuple by extracting all the unique elements\n",
        "numbers = (1, 2, 3, 4, 2, 2, 2, 1, 5, 4, 3, 4, 3)\n",
        "print(unique_numbers(numbers))\n",
        "\n",
        "\n",
        "print(tuple(set(numbers)))\n"
      ],
      "metadata": {
        "colab": {
          "base_uri": "https://localhost:8080/"
        },
        "id": "rfPHjxTKXzvn",
        "outputId": "aac8b9b0-c5e8-4934-bb37-a49215ffeae7"
      },
      "execution_count": null,
      "outputs": [
        {
          "output_type": "stream",
          "name": "stdout",
          "text": [
            "(1, 2, 3, 4, 5)\n",
            "(1, 2, 3, 4, 5)\n"
          ]
        }
      ]
    },
    {
      "cell_type": "code",
      "source": [
        "#Python program to find common elements in two lists with the help of set operations\n",
        "\n",
        "l1=[1,2,3,4,5]\n",
        "l2=[4,5,6,7,8]\n",
        "s1=set(l1)\n",
        "s2=set(l2)\n",
        "commons = s1&s2 # or s1.intersection(s2)\n",
        "commonlist = list(commons)\n",
        "print (commonlist)"
      ],
      "metadata": {
        "colab": {
          "base_uri": "https://localhost:8080/"
        },
        "id": "D0Du7B4zb7Es",
        "outputId": "6cab0e18-357d-46a0-9aad-e0811f2dee99"
      },
      "execution_count": null,
      "outputs": [
        {
          "output_type": "stream",
          "name": "stdout",
          "text": [
            "[4, 5]\n"
          ]
        }
      ]
    },
    {
      "cell_type": "code",
      "source": [
        "#Python program to check if a set is a subset of another\n",
        "\n",
        "s1={1,2,3,4,5}\n",
        "s2={4,5}\n",
        "if s2.issubset(s1):\n",
        "   print (\"s2 is a subset of s1\")\n",
        "else:\n",
        "   print (\"s2 is not a subset of s1\")"
      ],
      "metadata": {
        "colab": {
          "base_uri": "https://localhost:8080/"
        },
        "id": "Vng3g51ccD2Y",
        "outputId": "7b3cdf82-8543-41be-bb6c-94386fd5873d"
      },
      "execution_count": null,
      "outputs": [
        {
          "output_type": "stream",
          "name": "stdout",
          "text": [
            "s2 is a subset of s1\n"
          ]
        }
      ]
    },
    {
      "cell_type": "code",
      "source": [
        "#Python program to obtain a list of unique elements in a list\n",
        "\n",
        "T1 = (1, 9, 1, 6, 3, 4, 5, 1, 1, 2, 5, 6, 7, 8, 9, 2)\n",
        "s1 = set(T1)\n",
        "print (s1)"
      ],
      "metadata": {
        "colab": {
          "base_uri": "https://localhost:8080/"
        },
        "id": "zjwkLCWKcJxX",
        "outputId": "eb8a074f-1434-411c-fdc7-f980a756d86a"
      },
      "execution_count": null,
      "outputs": [
        {
          "output_type": "stream",
          "name": "stdout",
          "text": [
            "{1, 2, 3, 4, 5, 6, 7, 8, 9}\n"
          ]
        }
      ]
    },
    {
      "cell_type": "code",
      "source": [
        "#Python program to create a new dictionary by extracting the keys from a given dictionary.\n",
        "\n",
        "d1 = {\"one\":11, \"two\":22, \"three\":33, \"four\":44, \"five\":55}\n",
        "keys = ['two', 'five']\n",
        "d2={}\n",
        "\n",
        "for k in keys:\n",
        "  d2[k] = d1[k]\n",
        "\n",
        "print(d2)"
      ],
      "metadata": {
        "colab": {
          "base_uri": "https://localhost:8080/"
        },
        "id": "0fgHruTycYO9",
        "outputId": "e3d05210-29ab-453c-a0da-5074857abc5e"
      },
      "execution_count": null,
      "outputs": [
        {
          "output_type": "stream",
          "name": "stdout",
          "text": [
            "{'two': 22, 'five': 55}\n"
          ]
        }
      ]
    },
    {
      "cell_type": "code",
      "source": [
        "#Python program to convert a dictionary to list of (k,v) tuples.\n",
        "\n",
        "d1 = {\"one\":11, \"two\":22, \"three\":33, \"four\":44, \"five\":55}\n",
        "L1 = list(d1.items())\n",
        "print (L1)"
      ],
      "metadata": {
        "colab": {
          "base_uri": "https://localhost:8080/"
        },
        "id": "Wj9IAVu0cjgy",
        "outputId": "d8bb5449-b493-43e4-ed20-6a8f58d6d303"
      },
      "execution_count": null,
      "outputs": [
        {
          "output_type": "stream",
          "name": "stdout",
          "text": [
            "[('one', 11), ('two', 22), ('three', 33), ('four', 44), ('five', 55)]\n"
          ]
        }
      ]
    }
  ]
}