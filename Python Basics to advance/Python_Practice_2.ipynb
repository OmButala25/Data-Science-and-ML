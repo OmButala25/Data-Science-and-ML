{
  "nbformat": 4,
  "nbformat_minor": 0,
  "metadata": {
    "colab": {
      "provenance": []
    },
    "kernelspec": {
      "name": "python3",
      "display_name": "Python 3"
    },
    "language_info": {
      "name": "python"
    }
  },
  "cells": [
    {
      "cell_type": "code",
      "execution_count": null,
      "metadata": {
        "id": "noCy4QH8wEnZ"
      },
      "outputs": [],
      "source": [
        "#for loop\n",
        "integer = [1, 2, 3, 4, 5, 6, 7, 8]\n",
        "for i in integer:\n",
        "  print(i)"
      ]
    },
    {
      "cell_type": "code",
      "source": [
        "for i in integer:\n",
        "  print(\"yep!\")"
      ],
      "metadata": {
        "id": "vKUVMyOwzB5v"
      },
      "execution_count": null,
      "outputs": []
    },
    {
      "cell_type": "code",
      "source": [
        "for i in integer:\n",
        "  print(i+i)"
      ],
      "metadata": {
        "id": "kBKwcXb6zEmS"
      },
      "execution_count": null,
      "outputs": []
    },
    {
      "cell_type": "code",
      "source": [
        "for i in integer:\n",
        "  print(i*i)"
      ],
      "metadata": {
        "id": "krK8nS3ozG8b"
      },
      "execution_count": null,
      "outputs": []
    },
    {
      "cell_type": "code",
      "source": [
        "ice_cream_dict = {'name': 'Alex Freberg', 'weekly intake': 5, 'favorite ice creams': ['MCC', 'Chocolate']}"
      ],
      "metadata": {
        "id": "6R3qgpJYzMK-"
      },
      "execution_count": null,
      "outputs": []
    },
    {
      "cell_type": "code",
      "source": [
        "for cream in ice_cream_dict:\n",
        "    print(cream)\n",
        "print(\"----------------------------------------------------------------------------------------------------------\")\n",
        "for cream in ice_cream_dict.values():\n",
        "    print(cream)\n",
        "print(\"----------------------------------------------------------------------------------------------------------\")\n",
        "for key, value in ice_cream_dict.items():\n",
        "  print(key, \"->\", value)\n",
        "\n",
        "for i in range(20):\n",
        "  print(\"-\")"
      ],
      "metadata": {
        "id": "DisjUB67zPp8"
      },
      "execution_count": null,
      "outputs": []
    },
    {
      "cell_type": "code",
      "source": [
        "#nested for loop\n",
        "\n",
        "flavors = ['Vanilla', 'Chocolate', 'Cookie Dough']\n",
        "toppings = ['Hot Fudge', 'Oreos', 'Marshmallows']\n",
        "\n",
        "for one in flavors:\n",
        "  for two in toppings:\n",
        "    print(one, \"topped with\", two)"
      ],
      "metadata": {
        "id": "Njg6DCrV0YEx"
      },
      "execution_count": null,
      "outputs": []
    },
    {
      "cell_type": "code",
      "source": [
        "zen = '''\n",
        "Beautiful is better than ugly.\n",
        "Explicit is better than implicit.\n",
        "Simple is better than complex.\n",
        "Complex is better than complicated.\n",
        "'''\n",
        "\n",
        "for char in zen:\n",
        "  if char not in \"aeiou\":\n",
        "    print(char, end= \"\")"
      ],
      "metadata": {
        "colab": {
          "base_uri": "https://localhost:8080/"
        },
        "id": "DgP8tQszaB7O",
        "outputId": "8764557c-42dc-4338-f969-866a91d06352"
      },
      "execution_count": null,
      "outputs": [
        {
          "output_type": "stream",
          "name": "stdout",
          "text": [
            "\n",
            "Btfl s bttr thn gly.\n",
            "Explct s bttr thn mplct.\n",
            "Smpl s bttr thn cmplx.\n",
            "Cmplx s bttr thn cmplctd.\n"
          ]
        }
      ]
    },
    {
      "cell_type": "code",
      "source": [
        "numbers = range(5)\n",
        "'''\n",
        "start is 0 by default,\n",
        "step is 1 by default,\n",
        "range generated from 0 to 4\n",
        "'''\n",
        "print (list(numbers))\n",
        "# step is 1 by default, range generated from 10 to 19\n",
        "numbers = range(10,20)\n",
        "print (list(numbers))\n",
        "# range generated from 1 to 10 increment by step of 2\n",
        "numbers = range(1, 10, 2)\n",
        "print (list(numbers))"
      ],
      "metadata": {
        "colab": {
          "base_uri": "https://localhost:8080/"
        },
        "id": "1sWwlSGYa8Ll",
        "outputId": "ca50a009-176e-42dd-ea1d-61d57bab54ee"
      },
      "execution_count": null,
      "outputs": [
        {
          "output_type": "stream",
          "name": "stdout",
          "text": [
            "[0, 1, 2, 3, 4]\n",
            "[10, 11, 12, 13, 14, 15, 16, 17, 18, 19]\n",
            "[1, 3, 5, 7, 9]\n"
          ]
        }
      ]
    },
    {
      "cell_type": "code",
      "source": [
        "#Factorial\n",
        "# 5 = 1*2*3*4*5\n",
        "\n",
        "fact = 1\n",
        "n = 10\n",
        "for i in range(1, n+1):\n",
        "  fact = fact * i\n",
        "print(\"factorial of\", n, \"is\", fact)"
      ],
      "metadata": {
        "colab": {
          "base_uri": "https://localhost:8080/"
        },
        "id": "luhgtusmbPvA",
        "outputId": "4b5a89a0-0de8-4b97-9207-1d10c7780d3f"
      },
      "execution_count": null,
      "outputs": [
        {
          "output_type": "stream",
          "name": "stdout",
          "text": [
            "factorial of 10 is 3628800\n"
          ]
        }
      ]
    },
    {
      "cell_type": "code",
      "source": [
        "numbers = [34, 56, 78, 32, 98]\n",
        "indices = range(len(numbers))\n",
        "for i in indices:\n",
        "  print(\"index:\", i, \"number:\", numbers[i])"
      ],
      "metadata": {
        "colab": {
          "base_uri": "https://localhost:8080/"
        },
        "id": "GlGZsYUEckkp",
        "outputId": "23ce8754-abf8-4247-e628-bcf7b0a5890c"
      },
      "execution_count": null,
      "outputs": [
        {
          "output_type": "stream",
          "name": "stdout",
          "text": [
            "index: 0 number: 34\n",
            "index: 1 number: 56\n",
            "index: 2 number: 78\n",
            "index: 3 number: 32\n",
            "index: 4 number: 98\n"
          ]
        }
      ]
    },
    {
      "cell_type": "code",
      "source": [
        "# Table\n",
        "\n",
        "for i in range(1,11):\n",
        "  for j in range(1,11):\n",
        "    k = i*j\n",
        "    print(\"{:4d}\".format(k), end = \" \")\n",
        "  print()"
      ],
      "metadata": {
        "colab": {
          "base_uri": "https://localhost:8080/"
        },
        "id": "Kx6_oNWmduw6",
        "outputId": "076bfbaa-fdbf-41db-dc3a-ce1a1d77740d"
      },
      "execution_count": null,
      "outputs": [
        {
          "output_type": "stream",
          "name": "stdout",
          "text": [
            "   1    2    3    4    5    6    7    8    9   10 \n",
            "   2    4    6    8   10   12   14   16   18   20 \n",
            "   3    6    9   12   15   18   21   24   27   30 \n",
            "   4    8   12   16   20   24   28   32   36   40 \n",
            "   5   10   15   20   25   30   35   40   45   50 \n",
            "   6   12   18   24   30   36   42   48   54   60 \n",
            "   7   14   21   28   35   42   49   56   63   70 \n",
            "   8   16   24   32   40   48   56   64   72   80 \n",
            "   9   18   27   36   45   54   63   72   81   90 \n",
            "  10   20   30   40   50   60   70   80   90  100 \n"
          ]
        }
      ]
    },
    {
      "cell_type": "code",
      "source": [
        "#star pattern\n",
        "# range(start, stop, step)\n",
        "n = 5\n",
        "for i in range(0, n):\n",
        "  for j in range(0, i+1):\n",
        "    print(\"*\", end=\" \")\n",
        "  print()"
      ],
      "metadata": {
        "colab": {
          "base_uri": "https://localhost:8080/"
        },
        "id": "aAyK92Wi0_s7",
        "outputId": "0b70a8f2-1d29-4478-d060-94b3f9cffb96"
      },
      "execution_count": null,
      "outputs": [
        {
          "output_type": "stream",
          "name": "stdout",
          "text": [
            "* \n",
            "* * \n",
            "* * * \n",
            "* * * * \n",
            "* * * * * \n"
          ]
        }
      ]
    },
    {
      "cell_type": "code",
      "source": [
        "n = 5\n",
        "for i in range(0, n):\n",
        "  for j in range(n, i, -1):\n",
        "    print(\"*\", end=\" \")\n",
        "  print()"
      ],
      "metadata": {
        "colab": {
          "base_uri": "https://localhost:8080/"
        },
        "id": "SsVlHqiJ5gi1",
        "outputId": "97fb7fd9-967d-4d60-9eea-70f37c9b0d6b"
      },
      "execution_count": null,
      "outputs": [
        {
          "output_type": "stream",
          "name": "stdout",
          "text": [
            "* * * * * \n",
            "* * * * \n",
            "* * * \n",
            "* * \n",
            "* \n"
          ]
        }
      ]
    },
    {
      "cell_type": "code",
      "source": [
        "num = int(input(\"enter the number of rows: \"))\n",
        "for i in range(0, num):\n",
        "  for j in range(0, num-i-1):\n",
        "    print(end =\" \")\n",
        "  for j in range(0, i+1):\n",
        "    print(\"*\", end=\" \")\n",
        "  print()"
      ],
      "metadata": {
        "colab": {
          "base_uri": "https://localhost:8080/"
        },
        "id": "tv49ibWx3VZ8",
        "outputId": "461e7179-f390-403b-e811-e5e5bf966c0b"
      },
      "execution_count": null,
      "outputs": [
        {
          "output_type": "stream",
          "name": "stdout",
          "text": [
            "enter the number of rows: 5\n",
            "    * \n",
            "   * * \n",
            "  * * * \n",
            " * * * * \n",
            "* * * * * \n"
          ]
        }
      ]
    },
    {
      "cell_type": "code",
      "source": [
        "n = 5\n",
        "for i in range(0, n):\n",
        "  for j in range(0, i+1):\n",
        "    print(\"*\", end=\" \")\n",
        "  print()\n",
        "for i in range(n, 0, -1):\n",
        "  for j in range(0, i-1):\n",
        "    print(\"*\", end=\" \")\n",
        "  print()"
      ],
      "metadata": {
        "colab": {
          "base_uri": "https://localhost:8080/"
        },
        "id": "FZcEgWZP4MS1",
        "outputId": "8811c194-2462-45db-8797-e4c3587346a4"
      },
      "execution_count": null,
      "outputs": [
        {
          "output_type": "stream",
          "name": "stdout",
          "text": [
            "* \n",
            "* * \n",
            "* * * \n",
            "* * * * \n",
            "* * * * * \n",
            "* * * * \n",
            "* * * \n",
            "* * \n",
            "* \n",
            "\n"
          ]
        }
      ]
    },
    {
      "cell_type": "code",
      "source": [
        "# if else\n",
        "\n",
        "\n",
        "if 5%2 == 0:\n",
        "  print(\"even\")\n",
        "print(\"odd\")"
      ],
      "metadata": {
        "colab": {
          "base_uri": "https://localhost:8080/"
        },
        "id": "xBDTAEDk6OjZ",
        "outputId": "71150b7f-2d34-4637-b604-044d2b537001"
      },
      "execution_count": null,
      "outputs": [
        {
          "output_type": "stream",
          "name": "stdout",
          "text": [
            "odd\n"
          ]
        }
      ]
    },
    {
      "cell_type": "code",
      "source": [
        "print('It worked!') if 10>30 else print('It did not work...')"
      ],
      "metadata": {
        "colab": {
          "base_uri": "https://localhost:8080/"
        },
        "id": "f19kOXH77Rw4",
        "outputId": "ca93c376-6e1f-4330-f9b9-3358b6efbb5a"
      },
      "execution_count": null,
      "outputs": [
        {
          "output_type": "stream",
          "name": "stdout",
          "text": [
            "It did not work...\n"
          ]
        }
      ]
    },
    {
      "cell_type": "code",
      "source": [
        "n = 6\n",
        "if n%2 == 0:\n",
        "  print(\"its even\")\n",
        "else:\n",
        "  print(\"its odd\")"
      ],
      "metadata": {
        "colab": {
          "base_uri": "https://localhost:8080/"
        },
        "id": "O-7wahmY7UZl",
        "outputId": "7c47da2f-c6da-44fb-dfe4-ae717328875d"
      },
      "execution_count": null,
      "outputs": [
        {
          "output_type": "stream",
          "name": "stdout",
          "text": [
            "its even\n"
          ]
        }
      ]
    },
    {
      "cell_type": "code",
      "source": [
        "# 20% on amount exceeding 10000,\n",
        "# 10% for amount between 5-10000,\n",
        "# 5% if it is between 1 to 5000.\n",
        "# no discount if amount<1000\n",
        "\n",
        "# amount = int(round(input(\"Enter your amount: \")))\n",
        "amount = 10001\n",
        "print(\"amount: \", amount)\n",
        "\n",
        "if amount>=10000:\n",
        "  discount = amount * 20 / 100\n",
        "else:\n",
        "  if amount > 5000 and amount < 10000:\n",
        "    discount = amount * 10 / 100\n",
        "  else:\n",
        "    if amount > 1000 and amount < 5000:\n",
        "      discount = amount * 5 / 100\n",
        "    else:\n",
        "      discount = 0\n",
        "print(\"Payable amount: \", amount - discount)\n",
        "\n",
        "print(\"----------------------------------------------------------------------------------\")\n",
        "\n",
        "if amount >= 10000:\n",
        "  discount = amount * 15 / 100\n",
        "elif (amount >= 5000) and (amount <= 10000):\n",
        "  discount = amount * 10 / 100\n",
        "elif (amount >= 1000) and (amount <= 5000):\n",
        "  discount = amount * 5 / 100\n",
        "else:\n",
        "  discount = 0\n",
        "\n",
        "print(\"Payable amount: \", amount - discount)"
      ],
      "metadata": {
        "id": "JEai-jND74KX"
      },
      "execution_count": null,
      "outputs": []
    },
    {
      "cell_type": "code",
      "source": [
        "# match-case\n",
        "\n",
        "# m = input(\"Enter the number:\")\n",
        "def weekday(n):\n",
        "  match(n):\n",
        "    case 1: return \"Monday\"\n",
        "    case 2: return \"Tuesday\"\n",
        "    case 3: return \"Wednesday\"\n",
        "    case 4: return \"Thrusday\"\n",
        "    case 5: return \"Friday\"\n",
        "    case 6: return \"Saturday\"\n",
        "    case 7: return \"Sunday\"\n",
        "    case _: return \"Invalid Input\"\n",
        "\n",
        "print(weekday(7))"
      ],
      "metadata": {
        "colab": {
          "base_uri": "https://localhost:8080/"
        },
        "id": "xmkbw_dGTWPm",
        "outputId": "31bd5f73-af7d-4f5e-f8b1-99e9440a06c7"
      },
      "execution_count": null,
      "outputs": [
        {
          "output_type": "stream",
          "name": "stdout",
          "text": [
            "Sunday\n"
          ]
        }
      ]
    },
    {
      "cell_type": "code",
      "source": [
        "def access(user):\n",
        "  match(user):\n",
        "    case \"Admin\" | \"Manager\": return \"Full Access\"\n",
        "    case \"Guest\" | \"Employee\": return \"Limited Access\"\n",
        "    case _: return \"Invalid user\"\n",
        "\n",
        "print(access(\"Manager\"))\n",
        "print(access(\"Employee\"))\n",
        "print(access(\"Ravi\"))"
      ],
      "metadata": {
        "colab": {
          "base_uri": "https://localhost:8080/"
        },
        "id": "pbfmCjeTV_iW",
        "outputId": "2cc0321a-5900-4532-c816-bcb4652bce04"
      },
      "execution_count": null,
      "outputs": [
        {
          "output_type": "stream",
          "name": "stdout",
          "text": [
            "Full Access\n",
            "Limited Access\n",
            "Invalid user\n"
          ]
        }
      ]
    },
    {
      "cell_type": "code",
      "source": [
        "def greeting(greet):\n",
        "  match greet:\n",
        "    case [time, names]:\n",
        "      return f'Good {time} {names}'\n",
        "    case [time, *names]:\n",
        "      msg=''\n",
        "      for name in names:\n",
        "        msg += f'Good {time} {names}' # f means format\n",
        "      return msg\n",
        "\n",
        "print(greeting([\"Morning\", \"Om\"]))"
      ],
      "metadata": {
        "colab": {
          "base_uri": "https://localhost:8080/"
        },
        "id": "jDg32EnrXVMX",
        "outputId": "f65f1777-b62e-4745-ab12-2f04e38aa298"
      },
      "execution_count": null,
      "outputs": [
        {
          "output_type": "stream",
          "name": "stdout",
          "text": [
            "Good Morning Om\n"
          ]
        }
      ]
    },
    {
      "cell_type": "code",
      "source": [
        "#while loop\n",
        "\n",
        "number = 0\n",
        "while number<5:\n",
        "  print(number)\n",
        "  number = number +1"
      ],
      "metadata": {
        "colab": {
          "base_uri": "https://localhost:8080/"
        },
        "id": "1MCD49PcfPlT",
        "outputId": "54329d80-1448-499a-ff6b-30a65bc8f125"
      },
      "execution_count": null,
      "outputs": [
        {
          "output_type": "stream",
          "name": "stdout",
          "text": [
            "0\n",
            "1\n",
            "2\n",
            "3\n",
            "4\n"
          ]
        }
      ]
    },
    {
      "cell_type": "code",
      "source": [
        "count=0\n",
        "while count<5:\n",
        "   count+=1\n",
        "   print (\"Iteration no. {}\".format(count))\n",
        "else:\n",
        "   print (\"While loop over. Now in else block\")\n",
        "print (\"End of while loop\")"
      ],
      "metadata": {
        "colab": {
          "base_uri": "https://localhost:8080/"
        },
        "id": "ESSfM5aKfwGK",
        "outputId": "a70e7391-20bb-4b86-f4bb-710e3c9e013e"
      },
      "execution_count": null,
      "outputs": [
        {
          "output_type": "stream",
          "name": "stdout",
          "text": [
            "Iteration no. 1\n",
            "Iteration no. 2\n",
            "Iteration no. 3\n",
            "Iteration no. 4\n",
            "Iteration no. 5\n",
            "While loop over. Now in else block\n",
            "End of while loop\n"
          ]
        }
      ]
    },
    {
      "cell_type": "code",
      "source": [
        "def greeting(name):\n",
        "  print(\"Hello {}\".format(name))\n",
        "  print(f'Nice to meet you, {name}')\n",
        "  return"
      ],
      "metadata": {
        "id": "V9anZ0nOzUMJ"
      },
      "execution_count": null,
      "outputs": []
    },
    {
      "cell_type": "code",
      "source": [
        "def square(num):\n",
        "  print(\"Square of number:\", num**2)\n",
        "  print(num*num)\n",
        "\n",
        "square(8)\n",
        "\n",
        "\n",
        "def square_cust(num, power):\n",
        "  print(num**power)\n",
        "  greeting(\"Om\")\n",
        "\n",
        "square_cust(8,2)\n",
        "square_cust(power = 8, num = 2)"
      ],
      "metadata": {
        "colab": {
          "base_uri": "https://localhost:8080/"
        },
        "id": "haVw2BsXxtsm",
        "outputId": "0858f114-8ca0-4471-dc8c-f6f965ec9300"
      },
      "execution_count": null,
      "outputs": [
        {
          "output_type": "stream",
          "name": "stdout",
          "text": [
            "Square of number: 64\n",
            "64\n",
            "64\n",
            "Hello Om\n",
            "Nice to meet you, Om\n",
            "256\n",
            "Hello Om\n",
            "Nice to meet you, Om\n"
          ]
        }
      ]
    },
    {
      "cell_type": "code",
      "source": [
        "def division(num, den):\n",
        "   quotient = num/den\n",
        "   print (\"num:{} den:{} quotient:{}\".format(num, den, quotient))\n",
        "\n",
        "division(num=5, den=10)"
      ],
      "metadata": {
        "colab": {
          "base_uri": "https://localhost:8080/"
        },
        "id": "yBR0_hlF0iya",
        "outputId": "293534b4-cba3-4030-8147-ff8df90d4ed9"
      },
      "execution_count": null,
      "outputs": [
        {
          "output_type": "stream",
          "name": "stdout",
          "text": [
            "num:5 den:10 quotient:0.5\n"
          ]
        }
      ]
    },
    {
      "cell_type": "code",
      "source": [
        "print(\"Hello\",\"World\", sep=\"-\")"
      ],
      "metadata": {
        "colab": {
          "base_uri": "https://localhost:8080/"
        },
        "id": "9TkJfT-K0wQj",
        "outputId": "54efbf60-0ce0-4901-8453-84ebd353f052"
      },
      "execution_count": null,
      "outputs": [
        {
          "output_type": "stream",
          "name": "stdout",
          "text": [
            "Hello-World\n"
          ]
        }
      ]
    },
    {
      "cell_type": "code",
      "source": [
        "#The args variable prefixed with \"*\" stores all the values passed to it. Here, args becomes a tuple. We can run a loop over its items to add the numbers.\n",
        "def add(*args):\n",
        "  s = 0\n",
        "  for x in args:\n",
        "    s = x+s\n",
        "  return s\n",
        "\n",
        "result = add(10,20,30,40)\n",
        "print(result)"
      ],
      "metadata": {
        "colab": {
          "base_uri": "https://localhost:8080/"
        },
        "id": "UXiP9wfE12Om",
        "outputId": "f2ea3814-206a-4010-fc70-79dde6df7925"
      },
      "execution_count": null,
      "outputs": [
        {
          "output_type": "stream",
          "name": "stdout",
          "text": [
            "100\n"
          ]
        }
      ]
    },
    {
      "cell_type": "code",
      "source": [
        "def avg(first, *rest):\n",
        "  second = max(rest)\n",
        "  return (first+second)/2\n",
        "\n",
        "result = avg(40,30,50,20)\n",
        "print(result)"
      ],
      "metadata": {
        "colab": {
          "base_uri": "https://localhost:8080/"
        },
        "id": "upKawg-m2lZy",
        "outputId": "873bd8cc-4740-46cf-ea25-2f036b6d8ae1"
      },
      "execution_count": null,
      "outputs": [
        {
          "output_type": "stream",
          "name": "stdout",
          "text": [
            "45.0\n"
          ]
        }
      ]
    },
    {
      "cell_type": "code",
      "source": [
        "#string slicing\n",
        "\n",
        "var = \"Hello World\"\n",
        "\n",
        "var[0], var[-11]\n",
        "var[3], var[-8] #it has negative scheme also\n",
        "\n",
        "print (\"var:\",var)\n",
        "print (\"var[3:8]:\", var[3:8])\n",
        "print (\"var[-9:-4]:\", var[-9:-4])\n",
        "\n",
        "var1=var[:6]\n",
        "print (\"slice:\", var1)\n",
        "print (\"var1[:2]:\", var1[:2])"
      ],
      "metadata": {
        "colab": {
          "base_uri": "https://localhost:8080/"
        },
        "id": "A_wuhqPa8GYs",
        "outputId": "3bc42ac5-929a-461f-be44-f556feb8b9eb"
      },
      "execution_count": null,
      "outputs": [
        {
          "output_type": "stream",
          "name": "stdout",
          "text": [
            "var: Hello World\n",
            "var[3:8]: lo Wo\n",
            "var[-9:-4]: llo W\n",
            "slice: Hello \n",
            "var1[:2]: He\n"
          ]
        }
      ]
    },
    {
      "cell_type": "code",
      "source": [
        "#join() method in str class to concatenate all the characters.\n",
        "\n",
        "s1=\"WORD\"\n",
        "print (\"original string:\", s1)\n",
        "l1=list(s1)\n",
        "\n",
        "l1.insert(3,\"L\")\n",
        "\n",
        "print (l1)\n",
        "\n",
        "s1=''.join(l1)\n",
        "print (\"Modified string:\", s1)"
      ],
      "metadata": {
        "colab": {
          "base_uri": "https://localhost:8080/"
        },
        "id": "uF8xt6T-8_SF",
        "outputId": "1c561404-01de-4460-9e79-49169734cb45"
      },
      "execution_count": null,
      "outputs": [
        {
          "output_type": "stream",
          "name": "stdout",
          "text": [
            "original string: WORD\n",
            "['W', 'O', 'R', 'L', 'D']\n",
            "Modified string: WORLD\n"
          ]
        }
      ]
    },
    {
      "cell_type": "code",
      "source": [
        "# ignore \\\n",
        "s = 'This string will not include \\\n",
        "backslashes or newline characters.'\n",
        "print (s)\n",
        "\n",
        "# escape backslash\n",
        "s=s = 'The \\\\character is called backslash'\n",
        "print (s)\n",
        "\n",
        "# escape single quote\n",
        "s='Hello \\'Python\\''\n",
        "print (s)\n",
        "\n",
        "# escape double quote\n",
        "s=\"Hello \\\"Python\\\"\"\n",
        "print (s)\n",
        "\n",
        "# escape \\b to generate ASCII backspace\n",
        "s='Hel\\blo'\n",
        "print (s)\n",
        "\n",
        "# ASCII Bell character\n",
        "s='Hello\\a'\n",
        "print (s)\n",
        "\n",
        "# newline\n",
        "s='Hello\\nPython'\n",
        "print (s)\n",
        "\n",
        "# Horizontal tab\n",
        "s='Hello\\tPython'\n",
        "print (s)\n",
        "\n",
        "# form feed\n",
        "s= \"hello\\fworld\"\n",
        "print (s)\n",
        "\n",
        "# Octal notation\n",
        "s=\"\\101\"\n",
        "print(s)\n",
        "\n",
        "# Hexadecimal notation\n",
        "s=\"\\x41\"\n",
        "print (s)"
      ],
      "metadata": {
        "colab": {
          "base_uri": "https://localhost:8080/"
        },
        "id": "aLJ4lUxh9k1k",
        "outputId": "1a261de6-53f0-43e8-ef1b-1057ad8aa660"
      },
      "execution_count": null,
      "outputs": [
        {
          "output_type": "stream",
          "name": "stdout",
          "text": [
            "This string will not include backslashes or newline characters.\n",
            "The \\character is called backslash\n",
            "Hello 'Python'\n",
            "Hello \"Python\"\n",
            "Hel\blo\n",
            "Hello\u0007\n",
            "Hello\n",
            "Python\n",
            "Hello\tPython\n",
            "hello\fworld\n",
            "A\n",
            "A\n"
          ]
        }
      ]
    },
    {
      "cell_type": "code",
      "source": [],
      "metadata": {
        "id": "k5O4Q0H_-Nq5"
      },
      "execution_count": null,
      "outputs": []
    }
  ]
}