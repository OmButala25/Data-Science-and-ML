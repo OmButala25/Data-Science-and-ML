{
  "nbformat": 4,
  "nbformat_minor": 0,
  "metadata": {
    "colab": {
      "provenance": []
    },
    "kernelspec": {
      "name": "python3",
      "display_name": "Python 3"
    },
    "language_info": {
      "name": "python"
    }
  },
  "cells": [
    {
      "cell_type": "markdown",
      "source": [
        "Numpy\n",
        "\n",
        "**What is NumPy**\n",
        "\n",
        "NumPy stands for numeric python which is a python package for the computation and processing of the multidimensional and single dimensional array elements.\n",
        "\n",
        "NumPy provides a convenient and efficient way to handle the vast amount of data. NumPy is also very convenient with Matrix multiplication and data reshaping. NumPy is fast which makes it reasonable to work with a large set of data.\n",
        "\n"
      ],
      "metadata": {
        "id": "tQakB-TD5nuq"
      }
    },
    {
      "cell_type": "markdown",
      "source": [
        "convert list into array"
      ],
      "metadata": {
        "id": "Giy5znwBvQ6C"
      }
    },
    {
      "cell_type": "code",
      "execution_count": 44,
      "metadata": {
        "colab": {
          "base_uri": "https://localhost:8080/"
        },
        "id": "dV2xz8RQqQvP",
        "outputId": "e9726828-3f0a-400e-dc8f-b9a0595aed08"
      },
      "outputs": [
        {
          "output_type": "execute_result",
          "data": {
            "text/plain": [
              "array([1, 2, 3])"
            ]
          },
          "metadata": {},
          "execution_count": 44
        }
      ],
      "source": [
        "import numpy as np\n",
        "\n",
        "my_list = [1,2,3]\n",
        "arr = np.asarray(my_list)\n",
        "arr"
      ]
    },
    {
      "cell_type": "markdown",
      "source": [
        "shape and data type of array using .shape and .dtype"
      ],
      "metadata": {
        "id": "KMa9BVKCvU_A"
      }
    },
    {
      "cell_type": "code",
      "source": [
        "print(arr.shape)\n",
        "print(arr.dtype)"
      ],
      "metadata": {
        "colab": {
          "base_uri": "https://localhost:8080/"
        },
        "id": "OjBW5KhxvNbp",
        "outputId": "89f2d46e-f2bc-425e-b6ea-a9836ae7ba65"
      },
      "execution_count": 45,
      "outputs": [
        {
          "output_type": "stream",
          "name": "stdout",
          "text": [
            "(3,)\n",
            "int64\n"
          ]
        }
      ]
    },
    {
      "cell_type": "markdown",
      "source": [
        "numpy has diff data types than python and you can create one as follows"
      ],
      "metadata": {
        "id": "5xhxTeRGv4ls"
      }
    },
    {
      "cell_type": "code",
      "source": [
        "arr_zero = np.zeros((2,5))\n",
        "arr_ones = np.ones((3,6))\n",
        "arr_zero_five = np.arange((6))\n",
        "arr_spaced = np.linspace(0,10,10)\n",
        "arr_random = np.random.random((5,5))\n",
        "\n",
        "print(arr_zero)\n",
        "print(arr_ones)\n",
        "print(arr_zero_five)\n",
        "print(arr_spaced)\n",
        "print(arr_random)"
      ],
      "metadata": {
        "colab": {
          "base_uri": "https://localhost:8080/"
        },
        "id": "39ZI3P6Vv-N5",
        "outputId": "18a03a6d-105d-444c-a4b7-7d207bde9028"
      },
      "execution_count": 46,
      "outputs": [
        {
          "output_type": "stream",
          "name": "stdout",
          "text": [
            "[[0. 0. 0. 0. 0.]\n",
            " [0. 0. 0. 0. 0.]]\n",
            "[[1. 1. 1. 1. 1. 1.]\n",
            " [1. 1. 1. 1. 1. 1.]\n",
            " [1. 1. 1. 1. 1. 1.]]\n",
            "[0 1 2 3 4 5]\n",
            "[ 0.          1.11111111  2.22222222  3.33333333  4.44444444  5.55555556\n",
            "  6.66666667  7.77777778  8.88888889 10.        ]\n",
            "[[0.62219813 0.85364928 0.04508536 0.71487415 0.15180964]\n",
            " [0.15572104 0.68528387 0.56609293 0.47843404 0.66511237]\n",
            " [0.92592401 0.41118072 0.46941242 0.8285308  0.16466966]\n",
            " [0.34162917 0.51371015 0.20681992 0.60012272 0.4255579 ]\n",
            " [0.38123001 0.20223433 0.6655839  0.63095073 0.8747681 ]]\n"
          ]
        }
      ]
    },
    {
      "cell_type": "markdown",
      "source": [
        "two dimensional array"
      ],
      "metadata": {
        "id": "HC-3BxctyY-X"
      }
    },
    {
      "cell_type": "code",
      "source": [
        "arr1 = np.array([[1,2,3],[4,5,6]])\n",
        "arr1"
      ],
      "metadata": {
        "colab": {
          "base_uri": "https://localhost:8080/"
        },
        "id": "mxTHl7wuydG9",
        "outputId": "f13b7806-7662-4d70-eef9-70324fdbfe9f"
      },
      "execution_count": 47,
      "outputs": [
        {
          "output_type": "execute_result",
          "data": {
            "text/plain": [
              "array([[1, 2, 3],\n",
              "       [4, 5, 6]])"
            ]
          },
          "metadata": {},
          "execution_count": 47
        }
      ]
    },
    {
      "cell_type": "markdown",
      "source": [
        "Properties"
      ],
      "metadata": {
        "id": "ayBN1Tivy_mW"
      }
    },
    {
      "cell_type": "code",
      "source": [
        "print(arr1.ndim) #show dimension\n",
        "print(arr1.itemsize) #prints byte size of element\n",
        "print(arr1.dtype) #prints data type\n",
        "\n",
        "arr2 = np.array([[1,2,3],[4,5,6]], dtype = np.float64) #change data type\n",
        "print(arr2)\n",
        "\n",
        "arr3 = np.array([[1,2,3],[4,5,6]], dtype = np.complex64) #change data type into complex\n",
        "print(arr3)\n",
        "\n",
        "print(arr1.size) # shows size\n",
        "print(arr1.shape) # shows the shape\n",
        "\n",
        "print(arr1.reshape(3,2)) #here you can reshape an array too\n",
        "print(arr1.reshape(6,1))\n",
        "\n",
        "print(arr1.ravel()) #to flaten array make it one dimension\n",
        "\n",
        "print(arr1) #still same dimension as its not affected to original array .ravel() fun\n",
        "\n",
        "print(arr1.min()) #min value\n",
        "print(arr1.max()) #max value\n",
        "\n",
        "print(arr1.sum()) #sum all the numbers/ elements from array\n",
        "\n",
        "#             axis 0\n",
        "#               |\n",
        "#             1   2   3\n",
        "# axis 1 ---  4   5   6\n",
        "\n",
        "print(arr1.sum(axis = 0)) #sum of all 0 axis\n",
        "print(arr1.sum(axis = 1)) #sum of all 1 axis\n",
        "\n",
        "print(np.sqrt(arr1)) #square root of all elements from array\n",
        "\n",
        "print(arr1.std()) #print standard deviation of arr1"
      ],
      "metadata": {
        "colab": {
          "base_uri": "https://localhost:8080/"
        },
        "id": "erulRa00y8vA",
        "outputId": "4f470136-f1b6-4e47-ff11-91b487715139"
      },
      "execution_count": 48,
      "outputs": [
        {
          "output_type": "stream",
          "name": "stdout",
          "text": [
            "2\n",
            "8\n",
            "int64\n",
            "[[1. 2. 3.]\n",
            " [4. 5. 6.]]\n",
            "[[1.+0.j 2.+0.j 3.+0.j]\n",
            " [4.+0.j 5.+0.j 6.+0.j]]\n",
            "6\n",
            "(2, 3)\n",
            "[[1 2]\n",
            " [3 4]\n",
            " [5 6]]\n",
            "[[1]\n",
            " [2]\n",
            " [3]\n",
            " [4]\n",
            " [5]\n",
            " [6]]\n",
            "[1 2 3 4 5 6]\n",
            "[[1 2 3]\n",
            " [4 5 6]]\n",
            "1\n",
            "6\n",
            "21\n",
            "[5 7 9]\n",
            "[ 6 15]\n",
            "[[1.         1.41421356 1.73205081]\n",
            " [2.         2.23606798 2.44948974]]\n",
            "1.707825127659933\n"
          ]
        }
      ]
    },
    {
      "cell_type": "markdown",
      "source": [
        "operations"
      ],
      "metadata": {
        "id": "GFkNXg2D4Oal"
      }
    },
    {
      "cell_type": "code",
      "source": [
        "a = np.array([[1,2],[3,4]])\n",
        "b = np.array([[5,6],[7,8]])\n",
        "print(a)\n",
        "print(b)\n",
        "\n",
        "print(a+b) #sum operation of two arrays\n",
        "print(a*b) #multipliaction opreation\n",
        "print(a/b) #division\n",
        "\n",
        "#matrix multiplication/ matrix product\n",
        "print(a.dot(b))\n",
        "print(np.dot(a,b))\n",
        "print(np.matmul(a,b))\n",
        "print(np.multiply(a,b)) #simple muliplication"
      ],
      "metadata": {
        "colab": {
          "base_uri": "https://localhost:8080/"
        },
        "id": "JKpUSWEy4P30",
        "outputId": "c8912e8e-79c7-473e-dc80-5ab1c2dc7993"
      },
      "execution_count": 49,
      "outputs": [
        {
          "output_type": "stream",
          "name": "stdout",
          "text": [
            "[[1 2]\n",
            " [3 4]]\n",
            "[[5 6]\n",
            " [7 8]]\n",
            "[[ 6  8]\n",
            " [10 12]]\n",
            "[[ 5 12]\n",
            " [21 32]]\n",
            "[[0.2        0.33333333]\n",
            " [0.42857143 0.5       ]]\n",
            "[[19 22]\n",
            " [43 50]]\n",
            "[[19 22]\n",
            " [43 50]]\n",
            "[[19 22]\n",
            " [43 50]]\n",
            "[[ 5 12]\n",
            " [21 32]]\n"
          ]
        }
      ]
    }
  ]
}