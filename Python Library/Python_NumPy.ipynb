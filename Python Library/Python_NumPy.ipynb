{
  "nbformat": 4,
  "nbformat_minor": 0,
  "metadata": {
    "colab": {
      "provenance": []
    },
    "kernelspec": {
      "name": "python3",
      "display_name": "Python 3"
    },
    "language_info": {
      "name": "python"
    }
  },
  "cells": [
    {
      "cell_type": "markdown",
      "source": [
        "Numpy\n",
        "\n",
        "**What is NumPy**\n",
        "\n",
        "NumPy stands for numeric python which is a python package for the computation and processing of the multidimensional and single dimensional array elements.\n",
        "\n",
        "NumPy provides a convenient and efficient way to handle the vast amount of data. NumPy is also very convenient with Matrix multiplication and data reshaping. NumPy is fast which makes it reasonable to work with a large set of data.\n",
        "\n"
      ],
      "metadata": {
        "id": "tQakB-TD5nuq"
      }
    },
    {
      "cell_type": "markdown",
      "source": [
        "convert list into array"
      ],
      "metadata": {
        "id": "Giy5znwBvQ6C"
      }
    },
    {
      "cell_type": "code",
      "execution_count": 44,
      "metadata": {
        "colab": {
          "base_uri": "https://localhost:8080/"
        },
        "id": "dV2xz8RQqQvP",
        "outputId": "e9726828-3f0a-400e-dc8f-b9a0595aed08"
      },
      "outputs": [
        {
          "output_type": "execute_result",
          "data": {
            "text/plain": [
              "array([1, 2, 3])"
            ]
          },
          "metadata": {},
          "execution_count": 44
        }
      ],
      "source": [
        "import numpy as np\n",
        "\n",
        "my_list = [1,2,3]\n",
        "arr = np.asarray(my_list)\n",
        "arr"
      ]
    },
    {
      "cell_type": "markdown",
      "source": [
        "shape and data type of array using .shape and .dtype"
      ],
      "metadata": {
        "id": "KMa9BVKCvU_A"
      }
    },
    {
      "cell_type": "code",
      "source": [
        "print(arr.shape)\n",
        "print(arr.dtype)"
      ],
      "metadata": {
        "colab": {
          "base_uri": "https://localhost:8080/"
        },
        "id": "OjBW5KhxvNbp",
        "outputId": "89f2d46e-f2bc-425e-b6ea-a9836ae7ba65"
      },
      "execution_count": 45,
      "outputs": [
        {
          "output_type": "stream",
          "name": "stdout",
          "text": [
            "(3,)\n",
            "int64\n"
          ]
        }
      ]
    },
    {
      "cell_type": "markdown",
      "source": [
        "numpy has diff data types than python and you can create one as follows"
      ],
      "metadata": {
        "id": "5xhxTeRGv4ls"
      }
    },
    {
      "cell_type": "code",
      "source": [
        "arr_zero = np.zeros((2,5))\n",
        "arr_ones = np.ones((3,6))\n",
        "arr_zero_five = np.arange((6))\n",
        "arr_spaced = np.linspace(0,10,10)\n",
        "np.random.seed(0) #if you want to fix random numbers by using .seed() your random number will not change again and again as you run code\n",
        "arr_random = np.random.random((5,5))\n",
        "\n",
        "print(arr_zero)\n",
        "print(arr_ones)\n",
        "print(arr_zero_five)\n",
        "print(arr_spaced)\n",
        "print(arr_random)"
      ],
      "metadata": {
        "colab": {
          "base_uri": "https://localhost:8080/"
        },
        "id": "39ZI3P6Vv-N5",
        "outputId": "18a03a6d-105d-444c-a4b7-7d207bde9028"
      },
      "execution_count": 46,
      "outputs": [
        {
          "output_type": "stream",
          "name": "stdout",
          "text": [
            "[[0. 0. 0. 0. 0.]\n",
            " [0. 0. 0. 0. 0.]]\n",
            "[[1. 1. 1. 1. 1. 1.]\n",
            " [1. 1. 1. 1. 1. 1.]\n",
            " [1. 1. 1. 1. 1. 1.]]\n",
            "[0 1 2 3 4 5]\n",
            "[ 0.          1.11111111  2.22222222  3.33333333  4.44444444  5.55555556\n",
            "  6.66666667  7.77777778  8.88888889 10.        ]\n",
            "[[0.62219813 0.85364928 0.04508536 0.71487415 0.15180964]\n",
            " [0.15572104 0.68528387 0.56609293 0.47843404 0.66511237]\n",
            " [0.92592401 0.41118072 0.46941242 0.8285308  0.16466966]\n",
            " [0.34162917 0.51371015 0.20681992 0.60012272 0.4255579 ]\n",
            " [0.38123001 0.20223433 0.6655839  0.63095073 0.8747681 ]]\n"
          ]
        }
      ]
    },
    {
      "cell_type": "markdown",
      "source": [
        "two dimensional array"
      ],
      "metadata": {
        "id": "HC-3BxctyY-X"
      }
    },
    {
      "cell_type": "code",
      "source": [
        "arr1 = np.array([[1,2,3],[4,5,6]])\n",
        "arr1"
      ],
      "metadata": {
        "colab": {
          "base_uri": "https://localhost:8080/"
        },
        "id": "mxTHl7wuydG9",
        "outputId": "f13b7806-7662-4d70-eef9-70324fdbfe9f"
      },
      "execution_count": 47,
      "outputs": [
        {
          "output_type": "execute_result",
          "data": {
            "text/plain": [
              "array([[1, 2, 3],\n",
              "       [4, 5, 6]])"
            ]
          },
          "metadata": {},
          "execution_count": 47
        }
      ]
    },
    {
      "cell_type": "markdown",
      "source": [
        "Properties"
      ],
      "metadata": {
        "id": "ayBN1Tivy_mW"
      }
    },
    {
      "cell_type": "code",
      "source": [
        "print(arr1.ndim) #show dimension\n",
        "print(arr1.itemsize) #prints byte size of element\n",
        "print(arr1.dtype) #prints data type\n",
        "\n",
        "arr2 = np.array([[1,2,3],[4,5,6]], dtype = np.float64) #change data type\n",
        "print(arr2)\n",
        "\n",
        "arr3 = np.array([[1,2,3],[4,5,6]], dtype = np.complex64) #change data type into complex\n",
        "print(arr3)\n",
        "\n",
        "print(arr1.size) # shows size\n",
        "print(arr1.shape) # shows the shape\n",
        "\n",
        "print(arr1.reshape(3,2)) #here you can reshape an array too\n",
        "print(arr1.reshape(6,1))\n",
        "\n",
        "print(arr1.ravel()) #to flaten array make it one dimension\n",
        "\n",
        "print(arr1) #still same dimension as its not affected to original array .ravel() fun\n",
        "\n",
        "print(arr1.min()) #min value\n",
        "print(arr1.max()) #max value\n",
        "\n",
        "print(arr1.sum()) #sum all the numbers/ elements from array\n",
        "\n",
        "#             axis 0\n",
        "#               |\n",
        "#             1   2   3\n",
        "# axis 1 ---  4   5   6\n",
        "\n",
        "print(arr1.sum(axis = 0)) #sum of all 0 axis\n",
        "print(arr1.sum(axis = 1)) #sum of all 1 axis\n",
        "\n",
        "print(np.sqrt(arr1)) #square root of all elements from array\n",
        "\n",
        "print(arr1.std()) #print standard deviation of arr1"
      ],
      "metadata": {
        "colab": {
          "base_uri": "https://localhost:8080/"
        },
        "id": "erulRa00y8vA",
        "outputId": "4f470136-f1b6-4e47-ff11-91b487715139"
      },
      "execution_count": 48,
      "outputs": [
        {
          "output_type": "stream",
          "name": "stdout",
          "text": [
            "2\n",
            "8\n",
            "int64\n",
            "[[1. 2. 3.]\n",
            " [4. 5. 6.]]\n",
            "[[1.+0.j 2.+0.j 3.+0.j]\n",
            " [4.+0.j 5.+0.j 6.+0.j]]\n",
            "6\n",
            "(2, 3)\n",
            "[[1 2]\n",
            " [3 4]\n",
            " [5 6]]\n",
            "[[1]\n",
            " [2]\n",
            " [3]\n",
            " [4]\n",
            " [5]\n",
            " [6]]\n",
            "[1 2 3 4 5 6]\n",
            "[[1 2 3]\n",
            " [4 5 6]]\n",
            "1\n",
            "6\n",
            "21\n",
            "[5 7 9]\n",
            "[ 6 15]\n",
            "[[1.         1.41421356 1.73205081]\n",
            " [2.         2.23606798 2.44948974]]\n",
            "1.707825127659933\n"
          ]
        }
      ]
    },
    {
      "cell_type": "markdown",
      "source": [
        "operations"
      ],
      "metadata": {
        "id": "GFkNXg2D4Oal"
      }
    },
    {
      "cell_type": "code",
      "source": [
        "a = np.array([[1,2],[3,4]])\n",
        "b = np.array([[5,6],[7,8]])\n",
        "print(a)\n",
        "print(b)\n",
        "\n",
        "print(a+b) #sum operation of two arrays\n",
        "print(a*b) #multipliaction opreation\n",
        "print(a/b) #division\n",
        "\n",
        "#matrix multiplication/ matrix product\n",
        "print(a.dot(b))\n",
        "print(np.dot(a,b))\n",
        "print(np.matmul(a,b))\n",
        "print(np.multiply(a,b)) #simple muliplication"
      ],
      "metadata": {
        "colab": {
          "base_uri": "https://localhost:8080/"
        },
        "id": "JKpUSWEy4P30",
        "outputId": "c8912e8e-79c7-473e-dc80-5ab1c2dc7993"
      },
      "execution_count": 49,
      "outputs": [
        {
          "output_type": "stream",
          "name": "stdout",
          "text": [
            "[[1 2]\n",
            " [3 4]]\n",
            "[[5 6]\n",
            " [7 8]]\n",
            "[[ 6  8]\n",
            " [10 12]]\n",
            "[[ 5 12]\n",
            " [21 32]]\n",
            "[[0.2        0.33333333]\n",
            " [0.42857143 0.5       ]]\n",
            "[[19 22]\n",
            " [43 50]]\n",
            "[[19 22]\n",
            " [43 50]]\n",
            "[[19 22]\n",
            " [43 50]]\n",
            "[[ 5 12]\n",
            " [21 32]]\n"
          ]
        }
      ]
    },
    {
      "cell_type": "markdown",
      "source": [
        "Slicing and indexing"
      ],
      "metadata": {
        "id": "yibTWTzw8ZxA"
      }
    },
    {
      "cell_type": "code",
      "source": [
        "np.random.seed(0)\n",
        "np_rand = np.random.random((3,3))\n",
        "\n",
        "#here we make one copy of array named np_rand which will help to keep our original array unmodified\n",
        "#also creating sub arrau\n",
        "np_sub_rand = np.copy(np_rand[0:3 , 0])\n",
        "print(np_sub_rand)\n",
        "\n",
        "#here we have modify into 1000 and also will affect into original one\n",
        "np_sub_rand[0] = 1000\n",
        "\n",
        "print(np_sub_rand)\n",
        "\n",
        "print(np_rand)\n",
        "\n",
        "\n",
        "\n",
        "# np_arr = np.ones((7, 6))\n",
        "# np_slice = np.zeros((2,2))\n",
        "# np_copy = np.copy(np_arr)\n",
        "# np_slice = np_copy[2,3]\n",
        "# np_slice[2,3]= [4,5]\n",
        "# print(np_slice)\n",
        "\n",
        "np_arr = np.ones((7, 6))\n",
        "np_slice = np.zeros((2,2))\n",
        "np_copy = np_arr.copy()\n",
        "np_copy[2:4 , 3:5] = np_slice"
      ],
      "metadata": {
        "colab": {
          "base_uri": "https://localhost:8080/"
        },
        "id": "uWqHuVvr8ca1",
        "outputId": "d1eae114-3731-4b70-f3af-280948effcd8"
      },
      "execution_count": 51,
      "outputs": [
        {
          "output_type": "stream",
          "name": "stdout",
          "text": [
            "[0.5488135  0.54488318 0.43758721]\n",
            "[1.00000000e+03 5.44883183e-01 4.37587211e-01]\n",
            "[[0.5488135  0.71518937 0.60276338]\n",
            " [0.54488318 0.4236548  0.64589411]\n",
            " [0.43758721 0.891773   0.96366276]]\n"
          ]
        }
      ]
    },
    {
      "cell_type": "markdown",
      "source": [
        "Insert, append and delete array"
      ],
      "metadata": {
        "id": "_RFxxbOJ9y7a"
      }
    },
    {
      "cell_type": "code",
      "source": [
        "np_arr = np.array([[1,2], [6,8]])\n",
        "print(np_arr)\n",
        "\n",
        "#here we insert and obj is index number\n",
        "np_arr_insert = np.insert(arr = np_arr , obj = 1 , values = [3,4] , axis = 0 )\n",
        "print(np_arr_insert)\n",
        "\n",
        "#here without using axis we get an single array with append and if we provide axis we get into ndimension\n",
        "np_arr_append = np.append(arr = np_arr , values = [[3,4], [1,2]])\n",
        "print(np_arr_append)\n",
        "\n",
        "#delete element and obj is index\n",
        "np_arr_delete = np.delete(arr = np_arr , obj = 1 , axis = 1)\n",
        "print(np_arr_delete)\n",
        "\n",
        "\n",
        "np_arr = np.array( [[ 20 , 14] , [ 31 , 41] , [ 941 , 678] , [1468 , 121]] )\n",
        "\n",
        "np_copy1 = np_arr.copy()\n",
        "np_copy2 = np_arr.copy()\n",
        "np_copy3 = np_arr.copy()\n",
        "\n",
        "np_copy1 = np.append( np_copy1 , [ 3,4,5 ] )\n",
        "np_copy2 = np.insert(np_copy2 ,1 , [ [15,21] , [41,93 ] ] , axis = 0 )\n",
        "np_copy3 = np.delete(np_copy3 , 0 , 0)\n"
      ],
      "metadata": {
        "colab": {
          "base_uri": "https://localhost:8080/"
        },
        "id": "rTkCfofD93Dh",
        "outputId": "87eb5f85-85ac-4914-f301-bc8454372829"
      },
      "execution_count": 52,
      "outputs": [
        {
          "output_type": "stream",
          "name": "stdout",
          "text": [
            "[[1 2]\n",
            " [6 8]]\n",
            "[[1 2]\n",
            " [3 4]\n",
            " [6 8]]\n",
            "[1 2 6 8 3 4 1 2]\n",
            "[[1]\n",
            " [6]]\n",
            "[3 3 5 3 5]\n",
            "bool\n"
          ]
        }
      ]
    },
    {
      "cell_type": "markdown",
      "source": [
        "Array logical indexing"
      ],
      "metadata": {
        "id": "yvTuPZ6bApiu"
      }
    },
    {
      "cell_type": "code",
      "source": [
        "#here we want the elements greater than 2 from arr\n",
        "np_arr= np.array( [[1,2,3], [2,3,5], [1,3,5]] )\n",
        "np_condarr = np_arr [ np_arr>2 ]\n",
        "print( np_condarr )\n",
        "print((np_arr>2).dtype )\n",
        "\n",
        "\n",
        "np_arr = np.array( [[50,221, 12], [21,30,541], [12,31 ,45]] )\n",
        "np_log = np_arr[ np_arr >= 30 ]\n",
        "print(np_log)"
      ],
      "metadata": {
        "colab": {
          "base_uri": "https://localhost:8080/"
        },
        "id": "vpJARBCDAuYL",
        "outputId": "dcd40fed-19f2-4a58-db00-9b28afcbc9ba"
      },
      "execution_count": 54,
      "outputs": [
        {
          "output_type": "stream",
          "name": "stdout",
          "text": [
            "[3 3 5 3 5]\n",
            "bool\n",
            "[ 50 221  30 541  31  45]\n"
          ]
        }
      ]
    },
    {
      "cell_type": "markdown",
      "source": [
        "BroadCasting"
      ],
      "metadata": {
        "id": "DPE2vYP8BZTE"
      }
    },
    {
      "cell_type": "code",
      "source": [
        "np_arr = np.array([[2,3], [4,10]])\n",
        "np_arr_broad = np_arr *5\n",
        "print(np_arr_broad)\n",
        "\n",
        "np_five = np.array([[5,5], [5,5]])\n",
        "np_arr_nobroad = np_arr*np_five\n",
        "print(np_arr_nobroad)"
      ],
      "metadata": {
        "colab": {
          "base_uri": "https://localhost:8080/"
        },
        "id": "KnTpFKtgBcBi",
        "outputId": "c2c64e2b-de84-4732-ace3-ff1c34ac9171"
      },
      "execution_count": 57,
      "outputs": [
        {
          "output_type": "stream",
          "name": "stdout",
          "text": [
            "[[10 15]\n",
            " [20 50]]\n",
            "[[10 15]\n",
            " [20 50]]\n"
          ]
        }
      ]
    },
    {
      "cell_type": "code",
      "source": [
        "np_arr_nobroad.shape"
      ],
      "metadata": {
        "colab": {
          "base_uri": "https://localhost:8080/"
        },
        "id": "2u6v7qLnCh4g",
        "outputId": "2d4f9905-f76c-46d3-c556-229be2c9e93b"
      },
      "execution_count": 58,
      "outputs": [
        {
          "output_type": "execute_result",
          "data": {
            "text/plain": [
              "(2, 2)"
            ]
          },
          "metadata": {},
          "execution_count": 58
        }
      ]
    },
    {
      "cell_type": "code",
      "source": [],
      "metadata": {
        "id": "kVQ_oKO4CyT1"
      },
      "execution_count": null,
      "outputs": []
    }
  ]
}