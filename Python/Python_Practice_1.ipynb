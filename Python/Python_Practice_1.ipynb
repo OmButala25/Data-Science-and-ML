{
  "nbformat": 4,
  "nbformat_minor": 0,
  "metadata": {
    "colab": {
      "provenance": []
    },
    "kernelspec": {
      "name": "python3",
      "display_name": "Python 3"
    },
    "language_info": {
      "name": "python"
    }
  },
  "cells": [
    {
      "cell_type": "code",
      "execution_count": null,
      "metadata": {
        "colab": {
          "base_uri": "https://localhost:8080/"
        },
        "id": "aS8a1tIVbCZY",
        "outputId": "60edb3b1-dbd6-4b07-c154-b35cfbe875c5"
      },
      "outputs": [
        {
          "output_type": "execute_result",
          "data": {
            "text/plain": [
              "(134070673539664, 134070673539664)"
            ]
          },
          "metadata": {},
          "execution_count": 3
        }
      ],
      "source": [
        "a = 12\n",
        "id(a), id(12)"
      ]
    },
    {
      "cell_type": "code",
      "source": [
        "print(type(12))\n",
        "print(type(1292.3))\n",
        "print(type(\"Om\"))\n",
        "print(type(12+3j))"
      ],
      "metadata": {
        "colab": {
          "base_uri": "https://localhost:8080/"
        },
        "id": "pdxDmWtOc6nw",
        "outputId": "ab7d1d94-2bcc-4dc0-fb65-c591694d79a7"
      },
      "execution_count": null,
      "outputs": [
        {
          "output_type": "stream",
          "name": "stdout",
          "text": [
            "<class 'int'>\n",
            "<class 'float'>\n",
            "<class 'str'>\n",
            "<class 'complex'>\n"
          ]
        }
      ]
    },
    {
      "cell_type": "code",
      "source": [
        "str = 'Hello World!'\n",
        "\n",
        "print (str)          # Prints complete string\n",
        "print (str[0])       # Prints first character of the string\n",
        "print (str[2:5])     # Prints characters starting from 3rd to 5th\n",
        "print (str[2:])      # Prints string starting from 3rd character\n",
        "print (str * 2)      # Prints string two times\n",
        "print (str + \"TEST\") # Prints concatenated string"
      ],
      "metadata": {
        "colab": {
          "base_uri": "https://localhost:8080/"
        },
        "id": "Ai7R8ouLdASY",
        "outputId": "7c0c6720-2226-413c-bffc-cc377b9d0f61"
      },
      "execution_count": null,
      "outputs": [
        {
          "output_type": "stream",
          "name": "stdout",
          "text": [
            "Hello World!\n",
            "H\n",
            "llo\n",
            "llo World!\n",
            "Hello World!Hello World!\n",
            "Hello World!TEST\n"
          ]
        }
      ]
    },
    {
      "cell_type": "code",
      "source": [
        "[2023, \"Python\", 3.11, 5+6j, 1.23E-4]\n",
        "print(type([2023, \"Python\", 3.11, 5+6j, 1.23E-4]))"
      ],
      "metadata": {
        "colab": {
          "base_uri": "https://localhost:8080/"
        },
        "id": "gTNToUACfpuX",
        "outputId": "d6726189-c7df-48e2-f218-66b716e62372"
      },
      "execution_count": null,
      "outputs": [
        {
          "output_type": "stream",
          "name": "stdout",
          "text": [
            "<class 'list'>\n"
          ]
        }
      ]
    },
    {
      "cell_type": "code",
      "source": [
        "x = 0O34\n",
        "print (\"0O34 in octal is\", x, type(x))\n",
        "# Using Hexadecimal notation\n",
        "x = 0X1c\n",
        "print (\"0X1c in Hexadecimal is\", x, type(x))"
      ],
      "metadata": {
        "id": "IF7RL--3fwsV",
        "colab": {
          "base_uri": "https://localhost:8080/"
        },
        "outputId": "00678b20-8703-45fd-d111-d2f39803bfde"
      },
      "execution_count": null,
      "outputs": [
        {
          "output_type": "stream",
          "name": "stdout",
          "text": [
            "0O34 in octal is 28 <class 'int'>\n",
            "0X1c in Hexadecimal is 28 <class 'int'>\n"
          ]
        }
      ]
    },
    {
      "cell_type": "code",
      "source": [
        "# list\n",
        "\n",
        "list1 = [1, \"Om\", 12.5, True]\n",
        "print(list1)\n",
        "\n",
        "list1.append(\"Hello\")\n",
        "print(list1)\n",
        "\n",
        "print(list1[1])\n",
        "list1[1] = \"Omya\"\n",
        "print(list1)\n",
        "\n",
        "nest_list = ['Vanilla', 3, ['Scoops','Spoon'],True]\n",
        "print(nest_list[2][1])\n",
        "\n",
        "#can have duplicates\n",
        "list1.append(1)\n",
        "list1.append(\"Omya\")\n",
        "print(list1)\n",
        "\n",
        "list1.count(\"Omya\")\n",
        "\n",
        "list1.reverse()\n",
        "print(list1)\n",
        "\n",
        "list2 = [9, 8, 7, 6, 5, 4, 3, 2, 1]\n",
        "list2.sort()\n",
        "print(list2)\n",
        "\n",
        "print(list1[-1]) # list also allow negative indexing\n",
        "print(list1[1:4]) # slicing\n",
        "print(list1+list2) # list concatenation\n",
        "list1.pop()  # removes the last element from the list\n",
        "print(list1)"
      ],
      "metadata": {
        "colab": {
          "base_uri": "https://localhost:8080/"
        },
        "id": "PNX_lrFWh3qF",
        "outputId": "c832aaa6-ea86-4076-a7cf-23b9098520d4"
      },
      "execution_count": null,
      "outputs": [
        {
          "output_type": "stream",
          "name": "stdout",
          "text": [
            "[1, 'Om', 12.5, True]\n",
            "[1, 'Om', 12.5, True, 'Hello']\n",
            "Om\n",
            "[1, 'Omya', 12.5, True, 'Hello']\n",
            "Spoon\n",
            "[1, 'Omya', 12.5, True, 'Hello', 1, 'Omya']\n",
            "['Omya', 1, 'Hello', True, 12.5, 'Omya', 1]\n",
            "[1, 2, 3, 4, 5, 6, 7, 8, 9]\n",
            "1\n",
            "[1, 'Hello', True]\n",
            "['Omya', 1, 'Hello', True, 12.5, 'Omya', 1, 1, 2, 3, 4, 5, 6, 7, 8, 9]\n"
          ]
        }
      ]
    },
    {
      "cell_type": "code",
      "source": [
        "# Tuple\n",
        "\n",
        "tup1 = (1, 1, \"Om\", 12.5, True)\n",
        "print(tup1)\n",
        "\n",
        "#cannot append in tuple\n",
        "# tup1.append(\"Hello\")\n",
        "# print(tup1)\n",
        "\n",
        "print(tup1[2])\n",
        "\n",
        "tup2=(\"orange\",\"grapes\")\n",
        "print(tup1+tup2)  # tuples can be concatenated\n",
        "tuple3=(1,2,3)\n",
        "print(type(tuple3))\n",
        "# tuple1.pop()    tuple cannot be modified"
      ],
      "metadata": {
        "colab": {
          "base_uri": "https://localhost:8080/"
        },
        "id": "d6Hcqk2JimZU",
        "outputId": "a8302bed-1539-4f29-b2ea-5a20de0adf82"
      },
      "execution_count": null,
      "outputs": [
        {
          "output_type": "stream",
          "name": "stdout",
          "text": [
            "(1, 1, 'Om', 12.5, True)\n",
            "Om\n",
            "(1, 1, 'Om', 12.5, True, 'orange', 'grapes')\n",
            "<class 'tuple'>\n"
          ]
        }
      ]
    },
    {
      "cell_type": "code",
      "source": [
        "# Sets\n",
        "\n",
        "sets1 = {1, 2, 3, 31, 5, 1, 6, 3, 0, 7, 5, 9}\n",
        "print(sets1)\n",
        "\n",
        "sets2 = {1,2,3,4,5,\"hello\",\"tup\"}\n",
        "print(sets2)\n",
        "\n",
        "sets1.add(\"Om\")\n",
        "print(sets1)\n",
        "\n",
        "sets1.remove(31)\n",
        "print(sets1)\n",
        "\n",
        "set1={1,5,6,3,9}\n",
        "# set1.index()  will throw an error as they are unordered\n",
        "\n",
        "set1.pop()  # removes random element from the set\n",
        "print(set1)"
      ],
      "metadata": {
        "colab": {
          "base_uri": "https://localhost:8080/"
        },
        "id": "LsXOjNF_l_IP",
        "outputId": "f1d7da0e-721b-44e7-b389-5a7fd901081a"
      },
      "execution_count": null,
      "outputs": [
        {
          "output_type": "stream",
          "name": "stdout",
          "text": [
            "{0, 1, 2, 3, 5, 6, 7, 9, 31}\n",
            "{1, 2, 3, 4, 5, 'hello', 'tup'}\n",
            "{0, 1, 2, 3, 5, 6, 7, 9, 'Om', 31}\n",
            "{0, 1, 2, 3, 5, 6, 7, 9, 'Om'}\n",
            "{3, 5, 6, 9}\n"
          ]
        }
      ]
    },
    {
      "cell_type": "code",
      "source": [
        "# Dictionary\n",
        "\n",
        "dict1 = {1:\"Om\", 2:\"tejas\", 3:\"Vedant\"}\n",
        "print(dict1)\n",
        "print(dict1.keys())# all the keys are printed\n",
        "print(dict1.values())# all the values are printed\n",
        "print(dict1.items())\n",
        "\n",
        "dict1[2] = \"Tejas\"  # value assigned to key1 is replaced\n",
        "print(dict1[2])\n",
        "\n",
        "dict1.update({1:\"Omya\"})  # updates the dictionary\n",
        "print(dict1)\n",
        "\n",
        "dict1.pop(2) #pop/remove the item\n",
        "print(dict1)\n",
        "\n",
        "# dict1.index(\"key1\") will throw an error\n",
        "print(dict1.get(3))\n",
        "\n",
        "dict1.update({2 : \"Tejas\"})\n",
        "print(dict1)\n",
        "\n",
        "del dict1[2]\n",
        "print(dict1)"
      ],
      "metadata": {
        "colab": {
          "base_uri": "https://localhost:8080/"
        },
        "id": "SjVr5ObyuGrw",
        "outputId": "7b6f9dab-5884-4092-be4c-4cd2980b20a7"
      },
      "execution_count": null,
      "outputs": [
        {
          "output_type": "stream",
          "name": "stdout",
          "text": [
            "{1: 'Om', 2: 'tejas', 3: 'Vedant'}\n",
            "dict_keys([1, 2, 3])\n",
            "dict_values(['Om', 'tejas', 'Vedant'])\n",
            "dict_items([(1, 'Om'), (2, 'tejas'), (3, 'Vedant')])\n",
            "Tejas\n",
            "{1: 'Omya', 2: 'Tejas', 3: 'Vedant'}\n",
            "{1: 'Omya', 3: 'Vedant'}\n",
            "Vedant\n",
            "{1: 'Omya', 3: 'Vedant', 2: 'Tejas'}\n",
            "{1: 'Omya', 3: 'Vedant'}\n"
          ]
        }
      ]
    }
  ]
}