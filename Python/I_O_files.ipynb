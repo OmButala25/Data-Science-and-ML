{
  "nbformat": 4,
  "nbformat_minor": 0,
  "metadata": {
    "colab": {
      "provenance": []
    },
    "kernelspec": {
      "name": "python3",
      "display_name": "Python 3"
    },
    "language_info": {
      "name": "python"
    }
  },
  "cells": [
    {
      "cell_type": "code",
      "execution_count": null,
      "metadata": {
        "id": "GCVN45ol1QIl"
      },
      "outputs": [],
      "source": [
        "write_file = open(r\"file.txt\", 'w')\n",
        "write_file.write(\"Thsi is first sentence\\n\")\n",
        "write_file.close()"
      ]
    },
    {
      "cell_type": "code",
      "source": [
        "write_file = open(\"file.txt\")\n",
        "write_file.read()"
      ],
      "metadata": {
        "colab": {
          "base_uri": "https://localhost:8080/",
          "height": 36
        },
        "id": "CH8_OzeiKoIQ",
        "outputId": "3fff578a-633a-429b-b545-d4dffadbda80"
      },
      "execution_count": null,
      "outputs": [
        {
          "output_type": "execute_result",
          "data": {
            "text/plain": [
              "'Thsi is first sentence\\n'"
            ],
            "application/vnd.google.colaboratory.intrinsic+json": {
              "type": "string"
            }
          },
          "metadata": {},
          "execution_count": 16
        }
      ]
    },
    {
      "cell_type": "code",
      "source": [
        "append_file = open(\"file.txt\", 'a')\n",
        "append_file.write(' This is our Second sentence in our file.\\n')\n",
        "append_file.close()"
      ],
      "metadata": {
        "id": "gsSOH_UDLVP-"
      },
      "execution_count": null,
      "outputs": []
    },
    {
      "cell_type": "code",
      "source": [
        "with open(\"file.txt\", 'a') as append_file:\n",
        "  append_file.write(\"This is our third sentence in our file.\\n\")"
      ],
      "metadata": {
        "id": "jiy4wGP7Li2A"
      },
      "execution_count": null,
      "outputs": []
    },
    {
      "cell_type": "code",
      "source": [
        "with open(\"file.txt\", 'r') as read_file:\n",
        "  print(read_file.read())"
      ],
      "metadata": {
        "colab": {
          "base_uri": "https://localhost:8080/"
        },
        "id": "K37LLDgsMUQK",
        "outputId": "9cbc9173-bae7-4720-8000-231ebd7a16b4"
      },
      "execution_count": null,
      "outputs": [
        {
          "output_type": "stream",
          "name": "stdout",
          "text": [
            "Thsi is first sentence\n",
            " This is our Second sentence in our file.\n",
            "This is our third sentence in our file.\n",
            "\n"
          ]
        }
      ]
    },
    {
      "cell_type": "code",
      "source": [
        "read_file = open(\"file.txt\", 'r')\n",
        "print(read_file.read())"
      ],
      "metadata": {
        "colab": {
          "base_uri": "https://localhost:8080/"
        },
        "id": "f6iFcBB7Mx3q",
        "outputId": "c138d484-93bc-4fbd-e95f-b9021ebaa5df"
      },
      "execution_count": null,
      "outputs": [
        {
          "output_type": "stream",
          "name": "stdout",
          "text": [
            "This is first sentence\n",
            "This is our Second sentence in our file.\n",
            "This is our third sentence in our file.\n",
            "\n"
          ]
        }
      ]
    },
    {
      "cell_type": "code",
      "source": [
        "multilines = \"\"\"\n",
        "this is one\n",
        "this is two\n",
        "this is three\n",
        "\"\"\"\n",
        "\n",
        "with open(\"file.txt\", 'a') as append_file:\n",
        "  append_file.write(multilines)\n"
      ],
      "metadata": {
        "id": "TwonRCAiNJik"
      },
      "execution_count": null,
      "outputs": []
    },
    {
      "cell_type": "code",
      "source": [
        "with open(\"file.txt\", 'r') as read_file:\n",
        "  print(read_file.read())"
      ],
      "metadata": {
        "colab": {
          "base_uri": "https://localhost:8080/"
        },
        "id": "VMbisYv0NjT5",
        "outputId": "cfb3c773-9a1d-4fb1-aae5-e258556d6827"
      },
      "execution_count": null,
      "outputs": [
        {
          "output_type": "stream",
          "name": "stdout",
          "text": [
            "This is first sentence\n",
            "This is our Second sentence in our file.\n",
            "This is our third sentence in our file.\n",
            "\n",
            "this is one\n",
            "this is two\n",
            "this is three\n",
            "\n",
            "this is one\n",
            "this is two\n",
            "this is three\n",
            "\n"
          ]
        }
      ]
    },
    {
      "cell_type": "code",
      "source": [
        "import os"
      ],
      "metadata": {
        "id": "oxq-RbBkOOdk"
      },
      "execution_count": null,
      "outputs": []
    },
    {
      "cell_type": "code",
      "source": [
        "os.rename(\"file.txt\", \"sample.txt\")"
      ],
      "metadata": {
        "id": "GgEIRmc9OZ-g"
      },
      "execution_count": null,
      "outputs": []
    },
    {
      "cell_type": "code",
      "source": [
        "os.open(\"file1.txt\", os.O_CREAT)"
      ],
      "metadata": {
        "colab": {
          "base_uri": "https://localhost:8080/"
        },
        "id": "bvTyGDkXOpUX",
        "outputId": "d12c6d32-c8fd-4e78-b388-bbac034134ca"
      },
      "execution_count": null,
      "outputs": [
        {
          "output_type": "execute_result",
          "data": {
            "text/plain": [
              "43"
            ]
          },
          "metadata": {},
          "execution_count": 29
        }
      ]
    },
    {
      "cell_type": "code",
      "source": [
        "# Open a file\n",
        "fd = os.open(\"file1.txt\", os.O_RDWR|os.O_CREAT)\n",
        "\n",
        "# Write one string\n",
        "line = \"Hello World!\"\n",
        "\n",
        "# string needs to be converted byte object\n",
        "b = str.encode(line)\n",
        "ret = os.write(fd,b)\n",
        "\n",
        "# ret consists of number of bytes written to f1.txt\n",
        "print(\"the total number of bytes : \", ret)\n",
        "\n",
        "# Close opened file\n",
        "os.close(fd)\n",
        "print(\"file has been successfully closed\")"
      ],
      "metadata": {
        "colab": {
          "base_uri": "https://localhost:8080/"
        },
        "id": "qT8W43alPP7Q",
        "outputId": "dcd95506-abbf-4182-b5e5-da3731fa2b3c"
      },
      "execution_count": null,
      "outputs": [
        {
          "output_type": "stream",
          "name": "stdout",
          "text": [
            "the total number of bytes :  12\n",
            "file has been successfully closed\n"
          ]
        }
      ]
    },
    {
      "cell_type": "code",
      "source": [
        "print(str(ret))"
      ],
      "metadata": {
        "colab": {
          "base_uri": "https://localhost:8080/"
        },
        "id": "6tRzVcWFQpUl",
        "outputId": "3bddf1ca-d3a6-4433-a134-248f1d6c482a"
      },
      "execution_count": null,
      "outputs": [
        {
          "output_type": "stream",
          "name": "stdout",
          "text": [
            "12\n"
          ]
        }
      ]
    },
    {
      "cell_type": "code",
      "source": [
        "var = \"\\u0030\\u0031\\u0032\\u0033\\u0034\"\n",
        "print(var)"
      ],
      "metadata": {
        "colab": {
          "base_uri": "https://localhost:8080/"
        },
        "id": "w0rzDRmpaqy3",
        "outputId": "4ed3bfa4-3612-42b8-928e-4818eda50e99"
      },
      "execution_count": null,
      "outputs": [
        {
          "output_type": "stream",
          "name": "stdout",
          "text": [
            "01234\n"
          ]
        }
      ]
    }
  ]
}