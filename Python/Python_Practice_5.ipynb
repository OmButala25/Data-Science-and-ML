{
  "nbformat": 4,
  "nbformat_minor": 0,
  "metadata": {
    "colab": {
      "provenance": []
    },
    "kernelspec": {
      "name": "python3",
      "display_name": "Python 3"
    },
    "language_info": {
      "name": "python"
    }
  },
  "cells": [
    {
      "cell_type": "markdown",
      "source": [
        "JSON is a syntax for storing and exchanging data.\n",
        "\n",
        "JSON is text, written with JavaScript object notation.\n",
        "\n",
        "JSON - Java script object notation\n",
        "JSON is a data exchange format similar to xml\n",
        "\n",
        "JSON is lightweight format compared to xml"
      ],
      "metadata": {
        "id": "73Wf4oZ9LnY9"
      }
    },
    {
      "cell_type": "code",
      "execution_count": 2,
      "metadata": {
        "colab": {
          "base_uri": "https://localhost:8080/"
        },
        "id": "pVFSJxxWCABM",
        "outputId": "49b84e83-ac5f-4640-9301-7cf271629378"
      },
      "outputs": [
        {
          "output_type": "stream",
          "name": "stdout",
          "text": [
            "{\"name\": \"John\", \"age\": 30, \"city\": \"New York\"}\n"
          ]
        }
      ],
      "source": [
        "import json\n",
        "\n",
        "# a Python object (dict):\n",
        "x = {\n",
        "  \"name\": \"John\",\n",
        "  \"age\": 30,\n",
        "  \"city\": \"New York\"\n",
        "}\n",
        "\n",
        "# convert into JSON:\n",
        "y = json.dumps(x)  #If you have a Python object, you can convert it into a JSON string by using the json.dumps() method.\n",
        "\n",
        "# the result is a JSON string:\n",
        "print(y)"
      ]
    },
    {
      "cell_type": "markdown",
      "source": [
        "Convert a Python object containing all the legal data types:"
      ],
      "metadata": {
        "id": "eXFV75-qL1ZS"
      }
    },
    {
      "cell_type": "code",
      "source": [
        "import json\n",
        "\n",
        "x = {\n",
        "  \"name\": \"John\",\n",
        "  \"age\": 30,\n",
        "  \"married\": True,\n",
        "  \"divorced\": False,\n",
        "  \"children\": (\"Ann\",\"Billy\"),\n",
        "  \"pets\": None,\n",
        "  \"cars\": [\n",
        "    {\"model\": \"BMW 230\", \"mpg\": 27.5},\n",
        "    {\"model\": \"Ford Edge\", \"mpg\": 24.1}\n",
        "  ]\n",
        "}\n",
        "\n",
        "print(json.dumps(x))"
      ],
      "metadata": {
        "colab": {
          "base_uri": "https://localhost:8080/"
        },
        "id": "wErSEoPCL3mq",
        "outputId": "fcfe4047-4467-4d53-b956-08b6fcfd28a5"
      },
      "execution_count": 3,
      "outputs": [
        {
          "output_type": "stream",
          "name": "stdout",
          "text": [
            "{\"name\": \"John\", \"age\": 30, \"married\": true, \"divorced\": false, \"children\": [\"Ann\", \"Billy\"], \"pets\": null, \"cars\": [{\"model\": \"BMW 230\", \"mpg\": 27.5}, {\"model\": \"Ford Edge\", \"mpg\": 24.1}]}\n"
          ]
        }
      ]
    },
    {
      "cell_type": "markdown",
      "source": [
        "Convert from JSON to Python:\n",
        "\n",
        "If you have a JSON string, you can parse it by using the json.loads() method."
      ],
      "metadata": {
        "id": "NwS6kfp3MANC"
      }
    },
    {
      "cell_type": "code",
      "source": [
        "import json\n",
        "\n",
        "# some JSON:\n",
        "x =  '{ \"name\":\"John\", \"age\":30, \"city\":\"New York\"}'\n",
        "\n",
        "# parse x:\n",
        "y = json.loads(x)\n",
        "\n",
        "# the result is a Python dictionary:\n",
        "print(y[\"age\"])"
      ],
      "metadata": {
        "colab": {
          "base_uri": "https://localhost:8080/"
        },
        "id": "6mS6q8-ZMA26",
        "outputId": "21137db3-f4d3-456c-cc81-324178cedaac"
      },
      "execution_count": 4,
      "outputs": [
        {
          "output_type": "stream",
          "name": "stdout",
          "text": [
            "30\n"
          ]
        }
      ]
    },
    {
      "cell_type": "code",
      "source": [],
      "metadata": {
        "id": "KVKlO7J4Rshk"
      },
      "execution_count": null,
      "outputs": []
    },
    {
      "cell_type": "code",
      "source": [],
      "metadata": {
        "id": "4Hi0bN7zRsvr"
      },
      "execution_count": null,
      "outputs": []
    },
    {
      "cell_type": "markdown",
      "source": [
        "The if __name__ == \"__main__\": statement checks if the script is being run as the main program. If it is, it calls the greet() function with the name \"Alice\".\n",
        "\n",
        "In Short: It Allows You to Execute Code When the File Runs as a Script, but Not When It’s Imported as a Module\n",
        "\n",
        "if __name__ = \"__main__\"\n",
        "\n",
        "__name__ = predefined variable set to __main__\n",
        "which get set to main\n",
        "\n",
        "in python this is use as entry point as in java we use public static void main similar\n",
        " so when its value other then main\n",
        "\n",
        "when if you have another file with any function and you are calling that file\n",
        "it changes the value\n"
      ],
      "metadata": {
        "id": "idqyuhUmR-ir"
      }
    },
    {
      "cell_type": "code",
      "source": [
        "# IT will calculate the area of a triangle\n",
        "# Area of Traingle is=1/2*Base*Height\n",
        "def calculate_area(base, height):\n",
        "    print(\"__name__: \",__name__)\n",
        "    return 1/2*(base*height)\n",
        "\n",
        "if __name__ == \"__main__\":\n",
        "    print(\"I am in area.py\")\n",
        "    a=calculate_area(10, 20)\n",
        "    print(\"area: \",a)"
      ],
      "metadata": {
        "colab": {
          "base_uri": "https://localhost:8080/"
        },
        "id": "TjupWcPTRsyL",
        "outputId": "0c499495-ac49-4d0f-f70e-6879a94761f3"
      },
      "execution_count": 5,
      "outputs": [
        {
          "output_type": "stream",
          "name": "stdout",
          "text": [
            "I am in area.py\n",
            "__name__:  __main__\n",
            "area:  100.0\n"
          ]
        }
      ]
    },
    {
      "cell_type": "markdown",
      "source": [
        "Every Python module has it’s __name__ defined and if this is ‘__main__’, it implies that the module is being run standalone by the user and we can do corresponding appropriate actions.\n",
        "If you import this script as a module in another script, the __name__ is set to the name of the script/module.\n",
        "Python files can act as either reusable modules, or as standalone programs.\n",
        "if __name__ == “__main__”: is used to execute some code only if the file was run directly, and not imported."
      ],
      "metadata": {
        "id": "iYRdspEiS7__"
      }
    }
  ]
}