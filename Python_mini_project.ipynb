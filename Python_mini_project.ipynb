{
 "cells": [
  {
   "cell_type": "markdown",
   "id": "d645fdfe-53df-48f0-9bde-dcdab849b301",
   "metadata": {},
   "source": [
    "Automatic file sorter in File Explorer"
   ]
  },
  {
   "cell_type": "code",
   "execution_count": 17,
   "id": "4aff2a49-2561-4c5c-84ec-b7e440686d06",
   "metadata": {},
   "outputs": [],
   "source": [
    "import os, shutil"
   ]
  },
  {
   "cell_type": "code",
   "execution_count": 18,
   "id": "d134fa92-3818-4865-b172-cf1fc0640225",
   "metadata": {},
   "outputs": [],
   "source": [
    "path = r\"C:/Users/BUTALOP/Documents/Python tutorial/\""
   ]
  },
  {
   "cell_type": "code",
   "execution_count": 19,
   "id": "0bb2e1ec-d21d-4940-95c0-0f5f9dc924bc",
   "metadata": {},
   "outputs": [],
   "source": [
    "file_names = os.listdir(path)"
   ]
  },
  {
   "cell_type": "code",
   "execution_count": 20,
   "id": "d7e79016-e30d-475a-9320-c01473f946da",
   "metadata": {},
   "outputs": [],
   "source": [
    "folders_name = [\"pdf files\", \"image files\", \"text files\"]\n",
    "\n",
    "for loop in range(0,3):\n",
    "    if not os.path.exists(path + folders_name[loop]):\n",
    "        os.makedirs(path + folders_name[loop])\n",
    "\n",
    "for file in file_names:\n",
    "    if \".pdf\" in file and not os.path.exists(path + \"pdf files/\" + file):\n",
    "        shutil.move(path + file, path + \"pdf files/\" + file)\n",
    "    elif \".png\" in file and not os.path.exists(path + \"image files/\" + file):\n",
    "        shutil.move(path + file, path + \"image files/\" + file)\n",
    "    elif \".txt\" in file and not os.path.exists(path + \"text files/\" + file):\n",
    "        shutil.move(path + file, path + \"text files/\" + file)"
   ]
  },
  {
   "cell_type": "code",
   "execution_count": null,
   "id": "fffefe8a-bf3f-43eb-86f6-5ed186c1fb30",
   "metadata": {},
   "outputs": [],
   "source": []
  },
  {
   "cell_type": "code",
   "execution_count": null,
   "id": "4dc05b21-c822-4f7a-952e-3cdcf118669b",
   "metadata": {},
   "outputs": [],
   "source": []
  },
  {
   "cell_type": "code",
   "execution_count": null,
   "id": "770e7fae-433b-4146-b10a-ca0cfd95918d",
   "metadata": {},
   "outputs": [],
   "source": []
  },
  {
   "cell_type": "code",
   "execution_count": null,
   "id": "95896861-4436-489a-b9b6-50ad2fe070d3",
   "metadata": {},
   "outputs": [],
   "source": []
  }
 ],
 "metadata": {
  "kernelspec": {
   "display_name": "Python 3 (ipykernel)",
   "language": "python",
   "name": "python3"
  },
  "language_info": {
   "codemirror_mode": {
    "name": "ipython",
    "version": 3
   },
   "file_extension": ".py",
   "mimetype": "text/x-python",
   "name": "python",
   "nbconvert_exporter": "python",
   "pygments_lexer": "ipython3",
   "version": "3.12.1"
  }
 },
 "nbformat": 4,
 "nbformat_minor": 5
}
